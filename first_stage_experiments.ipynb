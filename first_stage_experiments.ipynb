{
 "cells": [
  {
   "cell_type": "raw",
   "source": [],
   "metadata": {
    "collapsed": false,
    "pycharm": {
     "name": ""
    }
   }
  },
  {
   "cell_type": "code",
   "execution_count": null,
   "outputs": [],
   "source": [],
   "metadata": {
    "collapsed": false
   }
  },
  {
   "cell_type": "code",
   "execution_count": null,
   "outputs": [],
   "source": [],
   "metadata": {
    "collapsed": false
   }
  },
  {
   "cell_type": "code",
   "execution_count": null,
   "outputs": [],
   "source": [],
   "metadata": {
    "collapsed": false
   }
  },
  {
   "cell_type": "code",
   "execution_count": 1,
   "metadata": {
    "collapsed": true
   },
   "outputs": [],
   "source": [
    "from sklearn.metrics import f1_score\n",
    "import pandas as pd\n",
    "from sklearn.model_selection import validation_curve\n",
    "import matplotlib.pyplot as plt\n",
    "import numpy as np\n",
    "\n",
    "\n",
    "def plot_validation_curve(x_train, y_train, x_val, y_val, classifier_class, param_name, param_range):\n",
    "    for param in param_range:\n",
    "        classifier = classifier_class(**{param_name: param})\n",
    "        classifier.fit(x_train, y_train)\n",
    "        train_prediction = classifier.predict(x_train, y_train, )\n",
    "        val_prediction = classifier.predict(x_val, y_val)\n",
    "        # calculate f1 score\n",
    "        train_score = f1_score(y_train, train_prediction)\n",
    "        val_score = f1_score(y_val, val_prediction)\n",
    "        plt.plot(param, train_score, 'o', color='r')\n",
    "        plt.plot(param, val_score, 'o', color='g')\n"
   ]
  },
  {
   "cell_type": "code",
   "execution_count": null,
   "outputs": [],
   "source": [
    "plot_validation_curve"
   ],
   "metadata": {
    "collapsed": false
   }
  }
 ],
 "metadata": {
  "kernelspec": {
   "name": "swiss_dial",
   "language": "python",
   "display_name": "swiss_dial"
  },
  "language_info": {
   "codemirror_mode": {
    "name": "ipython",
    "version": 2
   },
   "file_extension": ".py",
   "mimetype": "text/x-python",
   "name": "python",
   "nbconvert_exporter": "python",
   "pygments_lexer": "ipython2",
   "version": "2.7.6"
  }
 },
 "nbformat": 4,
 "nbformat_minor": 0
}
