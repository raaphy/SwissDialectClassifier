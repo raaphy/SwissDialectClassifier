{
 "cells": [
  {
   "cell_type": "markdown",
   "source": [
    "### This notebook contain additional experiments, that where not covered in the report"
   ],
   "metadata": {
    "collapsed": false
   }
  },
  {
   "cell_type": "code",
   "execution_count": 1,
   "outputs": [],
   "source": [
    "import pandas as pd\n",
    "from sklearn.svm import LinearSVC\n",
    "from sklearn.metrics import f1_score, classification_report\n",
    "import experimental_predictors as ep"
   ],
   "metadata": {
    "collapsed": false,
    "ExecuteTime": {
     "start_time": "2023-04-22T18:43:11.745072Z",
     "end_time": "2023-04-22T18:43:15.476457Z"
    }
   }
  },
  {
   "cell_type": "code",
   "execution_count": 2,
   "outputs": [],
   "source": [
    "train_df = pd.read_feather(\"data/train_embedding_bert_swiss_lm.feather\")\n",
    "dev_df = pd.read_feather(\"data/dev_embedding_bert_swiss_lm.feather\")\n",
    "train_swissbert = pd.read_feather(\"data/train_embedding_swissbert.feather\")\n",
    "dev_swissbert = pd.read_feather(\"data/dev_embedding_swissbert.feather\")"
   ],
   "metadata": {
    "collapsed": false,
    "ExecuteTime": {
     "start_time": "2023-04-22T18:43:15.482256Z",
     "end_time": "2023-04-22T18:43:15.924246Z"
    }
   }
  },
  {
   "cell_type": "code",
   "execution_count": 3,
   "outputs": [
    {
     "name": "stdout",
     "output_type": "stream",
     "text": [
      "              precision    recall  f1-score   support\n",
      "\n",
      "          BE       0.67      0.62      0.64      1053\n",
      "          BS       0.81      0.79      0.80      1528\n",
      "          LU       0.82      0.58      0.68      1017\n",
      "          ZH       0.62      0.89      0.73       932\n",
      "\n",
      "    accuracy                           0.72      4530\n",
      "   macro avg       0.73      0.72      0.71      4530\n",
      "weighted avg       0.74      0.72      0.72      4530\n",
      "\n"
     ]
    }
   ],
   "source": [
    "from sklearn.neighbors import KNeighborsClassifier\n",
    "from sklearn.naive_bayes import GaussianNB\n",
    "from sklearn.pipeline import make_pipeline\n",
    "from sklearn.preprocessing import StandardScaler\n",
    "from sklearn.decomposition import TruncatedSVD\n",
    "svm_gaussiannb_predictor = ep.SwissDialectPredictorSvmGaussianNB(enable_audio=True,\n",
    "                                                                 enable_sentance_embedding=True,\n",
    "                                                                 enable_byte_pair_tfidf=True,\n",
    "                                                                 normalize_each_vector=True,\n",
    "                                                                 last_classifier=GaussianNB())\n",
    "                                                                   #last_classifier=make_pipeline(StandardScaler(), TruncatedSVD(n_components=220), LinearSVC()))\n",
    "svm_gaussiannb_predictor.fit(train_df)\n",
    "dev_predicted = svm_gaussiannb_predictor.predict(dev_df)\n",
    "print(classification_report(dev_df['label'].tolist(), dev_predicted))"
   ],
   "metadata": {
    "collapsed": false,
    "ExecuteTime": {
     "start_time": "2023-04-22T18:43:15.925683Z",
     "end_time": "2023-04-22T18:43:19.057787Z"
    }
   }
  },
  {
   "cell_type": "code",
   "execution_count": 4,
   "outputs": [
    {
     "name": "stdout",
     "output_type": "stream",
     "text": [
      "              precision    recall  f1-score   support\n",
      "\n",
      "          BE       0.36      0.64      0.46      1053\n",
      "          BS       0.68      0.37      0.48      1528\n",
      "          LU       0.48      0.30      0.37      1017\n",
      "          ZH       0.46      0.59      0.52       932\n",
      "\n",
      "    accuracy                           0.46      4530\n",
      "   macro avg       0.50      0.47      0.46      4530\n",
      "weighted avg       0.52      0.46      0.46      4530\n",
      "\n"
     ]
    }
   ],
   "source": [
    "from byte_pair_tfidf_vectorizer import BytePairTfidfVectorizer\n",
    "\n",
    "byte_pair_tfidf_vectorizer = BytePairTfidfVectorizer(vocab_size=1000, min_frequency=2)\n",
    "byte_pair_vectorized = byte_pair_tfidf_vectorizer.fit_transform(train_df[\"text\"].tolist())\n",
    "\n",
    "svm_linear = make_pipeline(StandardScaler(),TruncatedSVD(n_components=50), KNeighborsClassifier(n_neighbors=20))\n",
    "svm_linear.fit(byte_pair_vectorized, train_df[\"label\"].tolist())\n",
    "prediction_dev = svm_linear.predict(byte_pair_tfidf_vectorizer.transform(dev_df[\"text\"].tolist()))\n",
    "print(classification_report(dev_df[\"label\"].tolist(), prediction_dev))"
   ],
   "metadata": {
    "collapsed": false,
    "ExecuteTime": {
     "start_time": "2023-04-22T18:43:19.063737Z",
     "end_time": "2023-04-22T18:43:23.235690Z"
    }
   }
  },
  {
   "cell_type": "code",
   "execution_count": 5,
   "outputs": [
    {
     "name": "stdout",
     "output_type": "stream",
     "text": [
      "enable_byte_pair_tfidf:  True enable_sentence_embedding:  True enable_audio:  True\n",
      "0.6418187485041348\n",
      "enable_byte_pair_tfidf:  True enable_sentence_embedding:  True enable_audio:  False\n",
      "0.6798078536178974\n",
      "enable_byte_pair_tfidf:  True enable_sentence_embedding:  False enable_audio:  True\n",
      "0.4540299055423549\n",
      "enable_byte_pair_tfidf:  False enable_sentence_embedding:  True enable_audio:  True\n",
      "0.46991066031793327\n",
      "enable_byte_pair_tfidf:  False enable_sentence_embedding:  True enable_audio:  False\n",
      "0.6666013474895518\n",
      "enable_byte_pair_tfidf:  False enable_sentence_embedding:  False enable_audio:  True\n",
      "0.4495228098066112\n"
     ]
    }
   ],
   "source": [
    "from sklearn.pipeline import make_pipeline\n",
    "for enable_byte_pair_tfidf in [True, False]:\n",
    "    for enable_sentence_embedding in [True, False]:\n",
    "        for enable_audio in [True, False]:\n",
    "            if not(enable_audio or enable_sentence_embedding or enable_sentence_embedding):\n",
    "                continue\n",
    "            print(\"enable_byte_pair_tfidf: \", enable_byte_pair_tfidf, \"enable_sentence_embedding: \", enable_sentence_embedding, \"enable_audio: \", enable_audio)\n",
    "            seperate_gaussian = ep.SwissDialectPredictorSeperateGaussians(  audio_classifier=make_pipeline(GaussianNB()),\n",
    "                                                                            sentence_embedding_classifier=make_pipeline(\n",
    "#                                                                               StandardScaler(),\n",
    "#                                                                               TruncatedSVD(400),\n",
    "                                                                                GaussianNB()),\n",
    "                                                                            tfidf_classifier= LinearSVC(),\n",
    "                                                                normalize_each_vector=False,\n",
    "                                                                enable_byte_pair_tfidf=enable_byte_pair_tfidf,\n",
    "                                                                enable_sentance_embedding=enable_sentence_embedding,\n",
    "                                                                enable_audio=enable_audio,\n",
    "                                                               last_classifier=GaussianNB(), audio_weight=1)\n",
    "            seperate_gaussian.fit(train_df)\n",
    "            #prediction_train = seperate_gaussian.predict(train_df)\n",
    "            #print(classification_report(train_df[\"label\"].tolist(), prediction_train))\n",
    "            prediction_dev = seperate_gaussian.predict(dev_df)\n",
    "            print(f1_score(dev_df[\"label\"].tolist(), prediction_dev, average='macro'))"
   ],
   "metadata": {
    "collapsed": false,
    "ExecuteTime": {
     "start_time": "2023-04-22T18:43:23.245689Z",
     "end_time": "2023-04-22T18:43:33.971611Z"
    }
   }
  },
  {
   "cell_type": "code",
   "execution_count": 5,
   "outputs": [],
   "source": [],
   "metadata": {
    "collapsed": false,
    "ExecuteTime": {
     "start_time": "2023-04-22T18:43:33.973405Z",
     "end_time": "2023-04-22T18:43:33.979372Z"
    }
   }
  }
 ],
 "metadata": {
  "kernelspec": {
   "display_name": "swiss_dial",
   "language": "python",
   "name": "swiss_dial"
  },
  "language_info": {
   "codemirror_mode": {
    "name": "ipython",
    "version": 3
   },
   "file_extension": ".py",
   "mimetype": "text/x-python",
   "name": "python",
   "nbconvert_exporter": "python",
   "pygments_lexer": "ipython3",
   "version": "3.10.10"
  }
 },
 "nbformat": 4,
 "nbformat_minor": 1
}
