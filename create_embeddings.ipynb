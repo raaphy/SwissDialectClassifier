{
 "cells": [
  {
   "cell_type": "code",
   "execution_count": 1,
   "metadata": {
    "collapsed": true
   },
   "outputs": [],
   "source": [
    "import gdi_loader as gdi\n",
    "from sklearn import svm\n",
    "import bert_swiss_lm as bsl\n",
    "import itertools\n",
    "import torch\n",
    "from tqdm import tqdm\n",
    "from sklearn.metrics import precision_score, recall_score, f1_score, classification_report"
   ]
  },
  {
   "cell_type": "code",
   "execution_count": 3,
   "outputs": [
    {
     "name": "stderr",
     "output_type": "stream",
     "text": [
      "Some weights of the model checkpoint at /Users/raphael/Downloads/bert-swiss-lm were not used when initializing BertModel: ['cls.predictions.transform.dense.bias', 'cls.predictions.decoder.weight', 'cls.predictions.transform.LayerNorm.weight', 'cls.predictions.transform.LayerNorm.bias', 'cls.predictions.bias', 'cls.predictions.transform.dense.weight']\n",
      "- This IS expected if you are initializing BertModel from the checkpoint of a model trained on another task or with another architecture (e.g. initializing a BertForSequenceClassification model from a BertForPreTraining model).\n",
      "- This IS NOT expected if you are initializing BertModel from the checkpoint of a model that you expect to be exactly identical (initializing a BertForSequenceClassification model from a BertForSequenceClassification model).\n"
     ]
    }
   ],
   "source": [
    "loader = gdi.GdiLoader(set_path=\"/Users/raphael/Downloads/gdi-vardial-2019/\")\n",
    "bert_embedder = bsl.BertSwissLm(\"/Users/raphael/Downloads/bert-swiss-lm\")\n",
    "#train_data = loader.create_dataframe(which_type=\"train\")\n",
    "#dev_data = loader.create_dataframe(which_type=\"dev\")\n",
    "test_data = loader.create_dataframe(which_type=\"gold\")"
   ],
   "metadata": {
    "collapsed": false
   }
  },
  {
   "cell_type": "code",
   "execution_count": 13,
   "outputs": [],
   "source": [
    "#n_data = train_data[0:100]\n",
    "#dev_df = loader.create_dataframe(\"dev\")"
   ],
   "metadata": {
    "collapsed": false
   }
  },
  {
   "cell_type": "code",
   "execution_count": 14,
   "outputs": [
    {
     "name": "stdout",
     "output_type": "stream",
     "text": [
      "2141.757797718048\n"
     ]
    }
   ],
   "source": [
    "import time\n",
    "start = time.time()\n",
    "train_embedding_df = bert_embedder.add_sentence_embedding(train_data)\n",
    "print(time.time() - start)"
   ],
   "metadata": {
    "collapsed": false
   }
  },
  {
   "cell_type": "code",
   "execution_count": 5,
   "outputs": [],
   "source": [
    "gold_embedding_df = bert_embedder.add_sentence_embedding_fast(test_data)"
   ],
   "metadata": {
    "collapsed": false
   }
  },
  {
   "cell_type": "code",
   "execution_count": 7,
   "outputs": [],
   "source": [
    "gold_embedding_df.to_feather(\"test_embedding_bert_swiss_lm.feather\")"
   ],
   "metadata": {
    "collapsed": false
   }
  },
  {
   "cell_type": "code",
   "execution_count": 17,
   "outputs": [
    {
     "name": "stdout",
     "output_type": "stream",
     "text": [
      "563.8175148963928\n"
     ]
    }
   ],
   "source": [
    "start = time.time()\n",
    "dev_embedding_df = bert_embedder.add_sentence_embedding(dev_data)\n",
    "print(time.time() - start)"
   ],
   "metadata": {
    "collapsed": false
   }
  },
  {
   "cell_type": "code",
   "execution_count": 18,
   "outputs": [],
   "source": [
    "dev_embedding_df.to_feather(\"dev_embedding_bert_swiss_lm.feather\")"
   ],
   "metadata": {
    "collapsed": false
   }
  },
  {
   "cell_type": "code",
   "execution_count": 16,
   "outputs": [],
   "source": [
    "train_embedding_df.to_feather(\"train_embedding_bert_swiss_lm.feather\")"
   ],
   "metadata": {
    "collapsed": false
   }
  },
  {
   "cell_type": "code",
   "execution_count": 3,
   "outputs": [],
   "source": [
    "sentences_train = [text for text, lable in itertools.islice(loader.get_next(), 1000)]\n",
    "lables_train = [lable for text, lable in itertools.islice(loader.get_next(), 1000)]\n",
    "sentences_dev = [text for text, lable in itertools.islice(loader_dev.get_next(), 1000)]\n",
    "lables_dev = [lable for text, lable in itertools.islice(loader_dev.get_next(), 1000)]"
   ],
   "metadata": {
    "collapsed": false
   }
  },
  {
   "cell_type": "code",
   "execution_count": null,
   "outputs": [],
   "source": [],
   "metadata": {
    "collapsed": false
   }
  },
  {
   "cell_type": "markdown",
   "source": [],
   "metadata": {
    "collapsed": false
   }
  },
  {
   "cell_type": "code",
   "execution_count": 4,
   "metadata": {},
   "outputs": [
    {
     "name": "stderr",
     "output_type": "stream",
     "text": [
      "100%|██████████| 1000/1000 [02:15<00:00,  7.41it/s]\n",
      "100%|██████████| 1000/1000 [02:12<00:00,  7.56it/s]\n"
     ]
    }
   ],
   "source": [
    "embeddings = [bert_embedder.get_sentence_embedding(sentence) for sentence in tqdm(sentences_train)]\n",
    "embeddings_dev = [bert_embedder.get_sentence_embedding(sentence) for sentence in tqdm(sentences_dev)]"
   ]
  },
  {
   "cell_type": "code",
   "execution_count": 5,
   "outputs": [],
   "source": [
    "embedding_tensor = torch.cat(embeddings, dim=0)\n",
    "embdedings_numpy = embedding_tensor.numpy()\n",
    "embedding_tensor_dev = torch.cat(embeddings_dev, dim=0)\n",
    "embdedings_numpy_dev = embedding_tensor_dev.numpy()"
   ],
   "metadata": {
    "collapsed": false
   }
  },
  {
   "cell_type": "code",
   "execution_count": 6,
   "outputs": [
    {
     "data": {
      "text/plain": "SVC()",
      "text/html": "<style>#sk-container-id-1 {color: black;background-color: white;}#sk-container-id-1 pre{padding: 0;}#sk-container-id-1 div.sk-toggleable {background-color: white;}#sk-container-id-1 label.sk-toggleable__label {cursor: pointer;display: block;width: 100%;margin-bottom: 0;padding: 0.3em;box-sizing: border-box;text-align: center;}#sk-container-id-1 label.sk-toggleable__label-arrow:before {content: \"▸\";float: left;margin-right: 0.25em;color: #696969;}#sk-container-id-1 label.sk-toggleable__label-arrow:hover:before {color: black;}#sk-container-id-1 div.sk-estimator:hover label.sk-toggleable__label-arrow:before {color: black;}#sk-container-id-1 div.sk-toggleable__content {max-height: 0;max-width: 0;overflow: hidden;text-align: left;background-color: #f0f8ff;}#sk-container-id-1 div.sk-toggleable__content pre {margin: 0.2em;color: black;border-radius: 0.25em;background-color: #f0f8ff;}#sk-container-id-1 input.sk-toggleable__control:checked~div.sk-toggleable__content {max-height: 200px;max-width: 100%;overflow: auto;}#sk-container-id-1 input.sk-toggleable__control:checked~label.sk-toggleable__label-arrow:before {content: \"▾\";}#sk-container-id-1 div.sk-estimator input.sk-toggleable__control:checked~label.sk-toggleable__label {background-color: #d4ebff;}#sk-container-id-1 div.sk-label input.sk-toggleable__control:checked~label.sk-toggleable__label {background-color: #d4ebff;}#sk-container-id-1 input.sk-hidden--visually {border: 0;clip: rect(1px 1px 1px 1px);clip: rect(1px, 1px, 1px, 1px);height: 1px;margin: -1px;overflow: hidden;padding: 0;position: absolute;width: 1px;}#sk-container-id-1 div.sk-estimator {font-family: monospace;background-color: #f0f8ff;border: 1px dotted black;border-radius: 0.25em;box-sizing: border-box;margin-bottom: 0.5em;}#sk-container-id-1 div.sk-estimator:hover {background-color: #d4ebff;}#sk-container-id-1 div.sk-parallel-item::after {content: \"\";width: 100%;border-bottom: 1px solid gray;flex-grow: 1;}#sk-container-id-1 div.sk-label:hover label.sk-toggleable__label {background-color: #d4ebff;}#sk-container-id-1 div.sk-serial::before {content: \"\";position: absolute;border-left: 1px solid gray;box-sizing: border-box;top: 0;bottom: 0;left: 50%;z-index: 0;}#sk-container-id-1 div.sk-serial {display: flex;flex-direction: column;align-items: center;background-color: white;padding-right: 0.2em;padding-left: 0.2em;position: relative;}#sk-container-id-1 div.sk-item {position: relative;z-index: 1;}#sk-container-id-1 div.sk-parallel {display: flex;align-items: stretch;justify-content: center;background-color: white;position: relative;}#sk-container-id-1 div.sk-item::before, #sk-container-id-1 div.sk-parallel-item::before {content: \"\";position: absolute;border-left: 1px solid gray;box-sizing: border-box;top: 0;bottom: 0;left: 50%;z-index: -1;}#sk-container-id-1 div.sk-parallel-item {display: flex;flex-direction: column;z-index: 1;position: relative;background-color: white;}#sk-container-id-1 div.sk-parallel-item:first-child::after {align-self: flex-end;width: 50%;}#sk-container-id-1 div.sk-parallel-item:last-child::after {align-self: flex-start;width: 50%;}#sk-container-id-1 div.sk-parallel-item:only-child::after {width: 0;}#sk-container-id-1 div.sk-dashed-wrapped {border: 1px dashed gray;margin: 0 0.4em 0.5em 0.4em;box-sizing: border-box;padding-bottom: 0.4em;background-color: white;}#sk-container-id-1 div.sk-label label {font-family: monospace;font-weight: bold;display: inline-block;line-height: 1.2em;}#sk-container-id-1 div.sk-label-container {text-align: center;}#sk-container-id-1 div.sk-container {/* jupyter's `normalize.less` sets `[hidden] { display: none; }` but bootstrap.min.css set `[hidden] { display: none !important; }` so we also need the `!important` here to be able to override the default hidden behavior on the sphinx rendered scikit-learn.org. See: https://github.com/scikit-learn/scikit-learn/issues/21755 */display: inline-block !important;position: relative;}#sk-container-id-1 div.sk-text-repr-fallback {display: none;}</style><div id=\"sk-container-id-1\" class=\"sk-top-container\"><div class=\"sk-text-repr-fallback\"><pre>SVC()</pre><b>In a Jupyter environment, please rerun this cell to show the HTML representation or trust the notebook. <br />On GitHub, the HTML representation is unable to render, please try loading this page with nbviewer.org.</b></div><div class=\"sk-container\" hidden><div class=\"sk-item\"><div class=\"sk-estimator sk-toggleable\"><input class=\"sk-toggleable__control sk-hidden--visually\" id=\"sk-estimator-id-1\" type=\"checkbox\" checked><label for=\"sk-estimator-id-1\" class=\"sk-toggleable__label sk-toggleable__label-arrow\">SVC</label><div class=\"sk-toggleable__content\"><pre>SVC()</pre></div></div></div></div></div>"
     },
     "execution_count": 6,
     "metadata": {},
     "output_type": "execute_result"
    }
   ],
   "source": [
    "clf = svm.SVC()\n",
    "clf.fit(embdedings_numpy, lables_train)"
   ],
   "metadata": {
    "collapsed": false
   }
  },
  {
   "cell_type": "code",
   "execution_count": 7,
   "outputs": [
    {
     "name": "stdout",
     "output_type": "stream",
     "text": [
      "['BS' 'BS' 'BS' 'LU' 'ZH' 'BE' 'BE' 'ZH' 'LU' 'BS' 'ZH' 'BE' 'ZH' 'BE'\n",
      " 'ZH' 'LU' 'ZH' 'BE' 'BE' 'ZH' 'BE' 'ZH' 'BE' 'BS' 'BS' 'BE' 'BS' 'LU'\n",
      " 'ZH' 'LU' 'LU' 'BE' 'ZH' 'ZH' 'BS' 'ZH' 'ZH' 'ZH' 'LU' 'LU' 'BS' 'ZH'\n",
      " 'LU' 'BE' 'LU' 'BE' 'LU' 'BE' 'BS' 'BS' 'ZH' 'BE' 'ZH' 'ZH' 'ZH' 'ZH'\n",
      " 'BS' 'LU' 'LU' 'LU' 'LU' 'ZH' 'ZH' 'ZH' 'BE' 'ZH' 'ZH' 'BE' 'BE' 'LU'\n",
      " 'BE' 'ZH' 'LU' 'BE' 'LU' 'BE' 'BS' 'ZH' 'BE' 'ZH' 'LU' 'BE' 'BS' 'LU'\n",
      " 'LU' 'LU' 'LU' 'ZH' 'BS' 'BS' 'BE' 'ZH' 'BS' 'BS' 'BE' 'BE' 'ZH' 'BE'\n",
      " 'BE' 'BE' 'ZH' 'ZH' 'ZH' 'BE' 'BE' 'BS' 'ZH' 'BE' 'BE' 'LU' 'BS' 'BS'\n",
      " 'BE' 'BE' 'LU' 'BE' 'ZH' 'LU' 'ZH' 'BE' 'LU' 'ZH' 'LU' 'BS' 'BE' 'BE'\n",
      " 'BS' 'LU' 'BS' 'LU' 'LU' 'BE' 'ZH' 'ZH' 'BS' 'ZH' 'BE' 'BE' 'ZH' 'ZH'\n",
      " 'ZH' 'BE' 'BS' 'ZH' 'BE' 'BE' 'ZH' 'BE' 'ZH' 'ZH' 'BS' 'LU' 'BE' 'BS'\n",
      " 'BE' 'BE' 'BE' 'BE' 'BE' 'BE' 'BE' 'ZH' 'BE' 'ZH' 'BS' 'ZH' 'ZH' 'LU'\n",
      " 'BS' 'ZH' 'ZH' 'LU' 'LU' 'ZH' 'LU' 'ZH' 'BE' 'BE' 'ZH' 'ZH' 'BE' 'BE'\n",
      " 'LU' 'BE' 'ZH' 'LU' 'BE' 'LU' 'BS' 'LU' 'BE' 'ZH' 'ZH' 'ZH' 'ZH' 'ZH'\n",
      " 'BS' 'BE' 'LU' 'BS' 'LU' 'ZH' 'BE' 'LU' 'BE' 'BE' 'ZH' 'LU' 'BS' 'ZH'\n",
      " 'LU' 'LU' 'LU' 'BS' 'LU' 'BS' 'BE' 'ZH' 'BE' 'BE' 'ZH' 'LU' 'BE' 'ZH'\n",
      " 'ZH' 'ZH' 'ZH' 'BE' 'ZH' 'ZH' 'BS' 'BE' 'ZH' 'BS' 'BE' 'ZH' 'BS' 'BE'\n",
      " 'BS' 'ZH' 'ZH' 'LU' 'ZH' 'BE' 'ZH' 'BS' 'ZH' 'LU' 'BE' 'ZH' 'ZH' 'LU'\n",
      " 'BS' 'ZH' 'BE' 'LU' 'BS' 'BS' 'BS' 'BS' 'BE' 'BS' 'ZH' 'BE' 'BE' 'LU'\n",
      " 'ZH' 'BE' 'LU' 'BS' 'LU' 'ZH' 'LU' 'BE' 'LU' 'BE' 'ZH' 'ZH' 'LU' 'BE'\n",
      " 'ZH' 'BS' 'BE' 'LU' 'BS' 'BE' 'BE' 'LU' 'ZH' 'ZH' 'ZH' 'BS' 'BE' 'BS'\n",
      " 'BE' 'ZH' 'BE' 'BS' 'LU' 'BS' 'ZH' 'ZH' 'ZH' 'BS' 'LU' 'LU' 'BS' 'ZH'\n",
      " 'ZH' 'ZH' 'LU' 'BE' 'LU' 'BS' 'ZH' 'ZH' 'BE' 'LU' 'LU' 'ZH' 'ZH' 'BS'\n",
      " 'BS' 'BE' 'ZH' 'BS' 'BE' 'BS' 'ZH' 'ZH' 'BS' 'ZH' 'ZH' 'BE' 'LU' 'LU'\n",
      " 'LU' 'LU' 'ZH' 'BE' 'BS' 'BS' 'ZH' 'ZH' 'ZH' 'BE' 'BS' 'ZH' 'BS' 'LU'\n",
      " 'ZH' 'BE' 'ZH' 'BE' 'BS' 'BS' 'BS' 'LU' 'ZH' 'BE' 'BE' 'ZH' 'BE' 'BS'\n",
      " 'BE' 'BS' 'LU' 'LU' 'LU' 'BS' 'ZH' 'BE' 'BS' 'ZH' 'LU' 'BE' 'LU' 'BE'\n",
      " 'ZH' 'BS' 'ZH' 'BE' 'ZH' 'BE' 'ZH' 'BE' 'BE' 'BE' 'BS' 'BE' 'BE' 'ZH'\n",
      " 'BS' 'BS' 'BE' 'ZH' 'ZH' 'LU' 'BS' 'LU' 'BS' 'BS' 'ZH' 'ZH' 'BS' 'ZH'\n",
      " 'ZH' 'BE' 'LU' 'ZH' 'LU' 'BE' 'BS' 'LU' 'ZH' 'BE' 'BE' 'BE' 'BS' 'BE'\n",
      " 'BE' 'BE' 'ZH' 'LU' 'ZH' 'LU' 'BE' 'BE' 'LU' 'LU' 'BS' 'LU' 'ZH' 'LU'\n",
      " 'BE' 'BE' 'ZH' 'BS' 'BE' 'ZH' 'ZH' 'LU' 'BS' 'LU' 'BE' 'BS' 'BE' 'LU'\n",
      " 'LU' 'ZH' 'LU' 'LU' 'BS' 'BE' 'ZH' 'ZH' 'LU' 'LU' 'BS' 'BS' 'ZH' 'ZH'\n",
      " 'BS' 'LU' 'BS' 'LU' 'LU' 'BS' 'ZH' 'BE' 'BE' 'ZH' 'ZH' 'BE' 'ZH' 'BE'\n",
      " 'ZH' 'ZH' 'ZH' 'ZH' 'BS' 'ZH' 'LU' 'ZH' 'ZH' 'ZH' 'BS' 'LU' 'LU' 'BE'\n",
      " 'LU' 'ZH' 'ZH' 'LU' 'BS' 'BE' 'ZH' 'BE' 'BE' 'LU' 'BE' 'ZH' 'BE' 'ZH'\n",
      " 'ZH' 'ZH' 'BS' 'ZH' 'BE' 'LU' 'BE' 'BE' 'ZH' 'BS' 'BS' 'BS' 'ZH' 'BS'\n",
      " 'BE' 'BE' 'BE' 'ZH' 'BE' 'ZH' 'BE' 'BS' 'BE' 'BE' 'LU' 'BS' 'ZH' 'LU'\n",
      " 'LU' 'BE' 'BE' 'ZH' 'ZH' 'BS' 'BE' 'BS' 'BS' 'BE' 'LU' 'BS' 'ZH' 'BE'\n",
      " 'LU' 'LU' 'LU' 'BS' 'BE' 'ZH' 'BS' 'ZH' 'BS' 'BE' 'ZH' 'ZH' 'BE' 'BE'\n",
      " 'ZH' 'BS' 'BS' 'ZH' 'BE' 'BS' 'BE' 'BS' 'BS' 'ZH' 'BE' 'BE' 'BE' 'BE'\n",
      " 'BE' 'ZH' 'ZH' 'ZH' 'BE' 'ZH' 'BE' 'LU' 'ZH' 'BE' 'LU' 'ZH' 'LU' 'ZH'\n",
      " 'BS' 'ZH' 'ZH' 'LU' 'BS' 'BE' 'BS' 'BS' 'ZH' 'BS' 'ZH' 'ZH' 'BE' 'ZH'\n",
      " 'ZH' 'BS' 'LU' 'BE' 'LU' 'BE' 'ZH' 'ZH' 'BS' 'LU' 'ZH' 'BS' 'BS' 'BE'\n",
      " 'BE' 'LU' 'LU' 'BS' 'ZH' 'BS' 'LU' 'BS' 'BE' 'ZH' 'LU' 'BE' 'LU' 'LU'\n",
      " 'ZH' 'ZH' 'LU' 'ZH' 'BS' 'BE' 'ZH' 'LU' 'ZH' 'LU' 'BE' 'ZH' 'LU' 'ZH'\n",
      " 'ZH' 'ZH' 'BS' 'LU' 'BS' 'BE' 'LU' 'BS' 'ZH' 'BS' 'BE' 'BE' 'ZH' 'ZH'\n",
      " 'ZH' 'ZH' 'LU' 'LU' 'BE' 'ZH' 'BS' 'BS' 'LU' 'BE' 'BS' 'BS' 'ZH' 'ZH'\n",
      " 'ZH' 'BE' 'LU' 'BE' 'BS' 'BS' 'LU' 'BS' 'BE' 'LU' 'ZH' 'ZH' 'ZH' 'ZH'\n",
      " 'LU' 'BE' 'LU' 'BS' 'LU' 'ZH' 'BE' 'ZH' 'LU' 'ZH' 'BS' 'BE' 'BS' 'ZH'\n",
      " 'LU' 'BS' 'ZH' 'BE' 'BS' 'BS' 'ZH' 'BS' 'BE' 'BS' 'ZH' 'BE' 'BE' 'ZH'\n",
      " 'ZH' 'ZH' 'ZH' 'ZH' 'BE' 'LU' 'BS' 'ZH' 'ZH' 'LU' 'ZH' 'ZH' 'BS' 'BE'\n",
      " 'ZH' 'LU' 'BS' 'ZH' 'BE' 'BS' 'BS' 'ZH' 'BS' 'ZH' 'ZH' 'BS' 'ZH' 'ZH'\n",
      " 'BS' 'LU' 'LU' 'BE' 'BE' 'LU' 'BS' 'BS' 'ZH' 'ZH' 'LU' 'LU' 'ZH' 'ZH'\n",
      " 'ZH' 'BE' 'ZH' 'ZH' 'BS' 'BS' 'BS' 'LU' 'BS' 'ZH' 'BE' 'LU' 'LU' 'BE'\n",
      " 'ZH' 'ZH' 'BS' 'LU' 'BS' 'BE' 'LU' 'BS' 'ZH' 'BE' 'LU' 'LU' 'ZH' 'BE'\n",
      " 'BE' 'BS' 'BS' 'BS' 'BS' 'BE' 'BE' 'ZH' 'BE' 'BE' 'BE' 'BS' 'BS' 'BS'\n",
      " 'BE' 'LU' 'BE' 'LU' 'ZH' 'BS' 'LU' 'LU' 'ZH' 'LU' 'LU' 'ZH' 'BE' 'BE'\n",
      " 'LU' 'ZH' 'BE' 'ZH' 'ZH' 'ZH' 'ZH' 'BS' 'ZH' 'BE' 'BS' 'BS' 'LU' 'BE'\n",
      " 'BE' 'BE' 'LU' 'BS' 'ZH' 'BS' 'LU' 'ZH' 'BS' 'BS' 'ZH' 'BE' 'LU' 'BS'\n",
      " 'BE' 'LU' 'LU' 'BS' 'ZH' 'BE' 'ZH' 'ZH' 'BE' 'BS' 'BS' 'ZH' 'LU' 'LU'\n",
      " 'BE' 'ZH' 'BS' 'BE' 'BE' 'BS' 'BS' 'LU' 'LU' 'BS' 'LU' 'ZH' 'LU' 'LU'\n",
      " 'BE' 'BS' 'BS' 'ZH' 'BS' 'ZH' 'BE' 'BE' 'BE' 'ZH' 'BS' 'LU' 'BS' 'LU'\n",
      " 'BE' 'ZH' 'BS' 'ZH' 'ZH' 'BE' 'BE' 'ZH' 'BE' 'BE' 'ZH' 'BE' 'BE' 'BE'\n",
      " 'BS' 'LU' 'BE' 'ZH' 'BE' 'BE' 'BS' 'LU' 'ZH' 'ZH' 'BE' 'ZH' 'LU' 'ZH'\n",
      " 'ZH' 'LU' 'LU' 'BS' 'ZH' 'ZH' 'BS' 'ZH' 'BE' 'ZH' 'ZH' 'BS' 'ZH' 'BE'\n",
      " 'BE' 'BS' 'LU' 'BS' 'LU' 'BS' 'BE' 'ZH' 'BE' 'BS' 'ZH' 'LU' 'ZH' 'LU'\n",
      " 'ZH' 'ZH' 'BE' 'ZH' 'LU' 'ZH' 'ZH' 'BE' 'BE' 'ZH' 'BE' 'ZH' 'ZH' 'ZH'\n",
      " 'BE' 'BS' 'BE' 'ZH' 'BE' 'ZH' 'BS' 'BE' 'BE' 'ZH' 'ZH' 'LU' 'ZH' 'BE'\n",
      " 'BS' 'BS' 'ZH' 'ZH' 'ZH' 'BE' 'ZH' 'ZH' 'BE' 'LU' 'BE' 'ZH' 'ZH' 'ZH'\n",
      " 'ZH' 'ZH' 'BE' 'BE' 'BS' 'BS' 'ZH' 'LU' 'BE' 'BS' 'LU' 'ZH' 'ZH' 'ZH'\n",
      " 'BS' 'BE' 'ZH' 'ZH' 'BE' 'LU']\n",
      "['BS', 'LU', 'BS', 'LU', 'ZH', 'BE', 'BE', 'ZH', 'LU', 'BS', 'LU', 'BE', 'ZH', 'BE', 'BE', 'LU', 'ZH', 'BE', 'BE', 'ZH', 'BE', 'ZH', 'ZH', 'BS', 'BS', 'BS', 'BS', 'LU', 'ZH', 'LU', 'BE', 'BE', 'ZH', 'LU', 'BS', 'BS', 'LU', 'BS', 'BE', 'LU', 'BS', 'ZH', 'LU', 'BS', 'LU', 'BE', 'LU', 'BE', 'BS', 'BS', 'ZH', 'BE', 'ZH', 'ZH', 'ZH', 'ZH', 'BS', 'LU', 'LU', 'LU', 'ZH', 'BS', 'LU', 'ZH', 'BE', 'ZH', 'ZH', 'LU', 'LU', 'LU', 'LU', 'ZH', 'BS', 'LU', 'LU', 'BE', 'BS', 'ZH', 'BE', 'LU', 'LU', 'LU', 'BS', 'LU', 'LU', 'LU', 'LU', 'ZH', 'BS', 'BS', 'BE', 'ZH', 'LU', 'BS', 'BE', 'BE', 'ZH', 'ZH', 'BE', 'BE', 'ZH', 'ZH', 'ZH', 'ZH', 'BE', 'BS', 'ZH', 'BE', 'BE', 'LU', 'BS', 'LU', 'BE', 'BE', 'BS', 'BE', 'ZH', 'LU', 'ZH', 'LU', 'LU', 'ZH', 'BS', 'BS', 'BE', 'LU', 'BE', 'LU', 'BS', 'LU', 'LU', 'LU', 'ZH', 'ZH', 'BS', 'ZH', 'BE', 'BE', 'ZH', 'ZH', 'ZH', 'BE', 'BS', 'ZH', 'BE', 'BE', 'ZH', 'BE', 'ZH', 'ZH', 'BS', 'LU', 'BE', 'BS', 'BE', 'BE', 'BE', 'BE', 'LU', 'BE', 'BE', 'ZH', 'BE', 'ZH', 'BS', 'ZH', 'ZH', 'LU', 'BS', 'ZH', 'ZH', 'LU', 'LU', 'ZH', 'BS', 'LU', 'ZH', 'BE', 'ZH', 'ZH', 'BS', 'BE', 'BS', 'BE', 'ZH', 'LU', 'BE', 'BS', 'BS', 'LU', 'BE', 'LU', 'BS', 'ZH', 'ZH', 'ZH', 'LU', 'BE', 'LU', 'BS', 'LU', 'ZH', 'ZH', 'ZH', 'BE', 'BE', 'ZH', 'LU', 'BS', 'ZH', 'LU', 'LU', 'BE', 'BE', 'BE', 'BS', 'BE', 'ZH', 'BE', 'BE', 'BE', 'LU', 'BE', 'ZH', 'ZH', 'LU', 'LU', 'LU', 'ZH', 'ZH', 'ZH', 'LU', 'ZH', 'BS', 'ZH', 'BE', 'BS', 'BE', 'BS', 'ZH', 'ZH', 'LU', 'ZH', 'BE', 'ZH', 'BS', 'ZH', 'LU', 'BE', 'ZH', 'BS', 'LU', 'LU', 'ZH', 'BE', 'LU', 'BS', 'BS', 'BS', 'ZH', 'BE', 'BS', 'ZH', 'BE', 'BE', 'LU', 'ZH', 'LU', 'LU', 'BS', 'LU', 'ZH', 'LU', 'BE', 'LU', 'BE', 'ZH', 'ZH', 'LU', 'BS', 'LU', 'BS', 'BE', 'LU', 'BS', 'BE', 'BE', 'LU', 'ZH', 'LU', 'BS', 'BS', 'BE', 'BS', 'BE', 'ZH', 'BE', 'BS', 'ZH', 'BS', 'LU', 'BE', 'LU', 'BS', 'LU', 'LU', 'BS', 'ZH', 'BS', 'ZH', 'LU', 'BE', 'LU', 'BS', 'ZH', 'LU', 'BE', 'LU', 'LU', 'LU', 'ZH', 'LU', 'BS', 'BE', 'ZH', 'BS', 'BE', 'BS', 'ZH', 'ZH', 'BS', 'ZH', 'ZH', 'BE', 'LU', 'LU', 'LU', 'BS', 'BE', 'BE', 'BS', 'BS', 'ZH', 'ZH', 'LU', 'BE', 'BS', 'ZH', 'ZH', 'BE', 'ZH', 'BE', 'ZH', 'BE', 'BS', 'BS', 'ZH', 'LU', 'BS', 'BE', 'BE', 'LU', 'BE', 'BS', 'BE', 'BS', 'LU', 'BS', 'LU', 'BS', 'ZH', 'BE', 'ZH', 'ZH', 'LU', 'LU', 'BS', 'BE', 'ZH', 'BS', 'ZH', 'LU', 'ZH', 'BE', 'ZH', 'BE', 'LU', 'BE', 'BE', 'BE', 'BE', 'BS', 'BS', 'BS', 'BE', 'ZH', 'ZH', 'LU', 'BS', 'BS', 'LU', 'BS', 'ZH', 'ZH', 'ZH', 'ZH', 'ZH', 'BE', 'LU', 'ZH', 'LU', 'BS', 'BS', 'LU', 'LU', 'BE', 'BE', 'BE', 'LU', 'BE', 'BE', 'BE', 'ZH', 'LU', 'BS', 'LU', 'BE', 'BE', 'BE', 'LU', 'BE', 'LU', 'ZH', 'LU', 'BE', 'BE', 'ZH', 'LU', 'BE', 'ZH', 'ZH', 'LU', 'BS', 'BE', 'BE', 'BS', 'BE', 'BS', 'LU', 'ZH', 'LU', 'LU', 'BS', 'LU', 'ZH', 'LU', 'LU', 'LU', 'BS', 'BS', 'ZH', 'ZH', 'LU', 'BE', 'BS', 'LU', 'LU', 'BS', 'LU', 'BE', 'BE', 'ZH', 'ZH', 'BE', 'BS', 'BE', 'ZH', 'LU', 'LU', 'BS', 'ZH', 'ZH', 'BE', 'ZH', 'BE', 'ZH', 'BS', 'LU', 'LU', 'BE', 'LU', 'ZH', 'ZH', 'LU', 'BS', 'BE', 'ZH', 'BE', 'ZH', 'BE', 'ZH', 'ZH', 'LU', 'ZH', 'ZH', 'ZH', 'BS', 'ZH', 'BE', 'BS', 'BE', 'LU', 'ZH', 'BS', 'BS', 'BS', 'ZH', 'LU', 'BE', 'BE', 'BE', 'ZH', 'BE', 'ZH', 'BE', 'BS', 'BE', 'BS', 'LU', 'ZH', 'ZH', 'ZH', 'LU', 'BE', 'BE', 'LU', 'ZH', 'BS', 'BE', 'LU', 'BS', 'BE', 'BE', 'BS', 'ZH', 'BE', 'LU', 'BS', 'LU', 'BS', 'LU', 'ZH', 'BS', 'ZH', 'BS', 'BE', 'ZH', 'LU', 'BE', 'BE', 'BE', 'BS', 'BS', 'BE', 'BE', 'BS', 'BE', 'BS', 'ZH', 'ZH', 'BE', 'BE', 'BE', 'BE', 'BE', 'ZH', 'ZH', 'ZH', 'BE', 'ZH', 'BE', 'BS', 'ZH', 'BE', 'LU', 'ZH', 'LU', 'ZH', 'BS', 'ZH', 'ZH', 'LU', 'BS', 'BE', 'BS', 'BS', 'LU', 'BS', 'ZH', 'LU', 'BE', 'ZH', 'ZH', 'BS', 'LU', 'LU', 'LU', 'BE', 'ZH', 'BS', 'BS', 'LU', 'ZH', 'BS', 'BS', 'ZH', 'BE', 'LU', 'LU', 'BS', 'ZH', 'ZH', 'BS', 'BS', 'BE', 'ZH', 'LU', 'LU', 'LU', 'LU', 'ZH', 'ZH', 'LU', 'ZH', 'BS', 'BE', 'ZH', 'LU', 'LU', 'LU', 'BE', 'ZH', 'LU', 'BS', 'ZH', 'ZH', 'ZH', 'LU', 'BS', 'BE', 'LU', 'BS', 'BE', 'BS', 'BE', 'BE', 'BS', 'ZH', 'ZH', 'ZH', 'LU', 'LU', 'BE', 'ZH', 'BS', 'BS', 'BS', 'BE', 'BS', 'BS', 'ZH', 'ZH', 'ZH', 'BE', 'LU', 'BE', 'BS', 'BS', 'LU', 'BS', 'BE', 'LU', 'BS', 'ZH', 'ZH', 'ZH', 'LU', 'BS', 'LU', 'ZH', 'BS', 'ZH', 'BS', 'BS', 'LU', 'ZH', 'BS', 'BE', 'BS', 'ZH', 'LU', 'BS', 'ZH', 'LU', 'BS', 'BS', 'ZH', 'BS', 'BE', 'BS', 'ZH', 'BE', 'BE', 'ZH', 'ZH', 'ZH', 'ZH', 'ZH', 'BE', 'BS', 'BS', 'ZH', 'BS', 'LU', 'ZH', 'ZH', 'BS', 'LU', 'ZH', 'LU', 'BS', 'ZH', 'BE', 'BS', 'BS', 'ZH', 'BS', 'ZH', 'ZH', 'BS', 'ZH', 'LU', 'BS', 'LU', 'BS', 'BE', 'BE', 'LU', 'LU', 'BS', 'ZH', 'LU', 'LU', 'LU', 'ZH', 'BS', 'ZH', 'BE', 'ZH', 'ZH', 'BS', 'BE', 'BS', 'LU', 'LU', 'ZH', 'BE', 'LU', 'LU', 'BE', 'ZH', 'ZH', 'BE', 'LU', 'BS', 'BE', 'LU', 'BE', 'ZH', 'BE', 'LU', 'LU', 'ZH', 'BE', 'BE', 'BS', 'BE', 'BS', 'LU', 'BE', 'BE', 'ZH', 'BE', 'BE', 'LU', 'BS', 'BS', 'BS', 'BE', 'LU', 'BE', 'LU', 'BS', 'BS', 'LU', 'LU', 'LU', 'LU', 'LU', 'ZH', 'BE', 'BE', 'LU', 'ZH', 'BE', 'ZH', 'ZH', 'BE', 'ZH', 'LU', 'ZH', 'BE', 'BS', 'ZH', 'LU', 'BE', 'BE', 'BE', 'LU', 'BS', 'ZH', 'BS', 'BS', 'ZH', 'LU', 'BS', 'ZH', 'BE', 'LU', 'BS', 'BE', 'LU', 'BS', 'BS', 'ZH', 'BE', 'ZH', 'ZH', 'BE', 'BS', 'BS', 'ZH', 'BS', 'LU', 'BE', 'BE', 'BS', 'BE', 'BE', 'BS', 'BS', 'LU', 'LU', 'BS', 'BS', 'ZH', 'LU', 'LU', 'BE', 'BS', 'BS', 'BS', 'BE', 'ZH', 'BE', 'BE', 'BE', 'ZH', 'LU', 'LU', 'BS', 'LU', 'BE', 'BS', 'LU', 'BE', 'ZH', 'BE', 'BE', 'ZH', 'BE', 'BE', 'BS', 'BE', 'BE', 'BE', 'LU', 'LU', 'BE', 'ZH', 'BS', 'BE', 'BS', 'LU', 'ZH', 'ZH', 'BE', 'ZH', 'BS', 'LU', 'ZH', 'LU', 'LU', 'BE', 'ZH', 'ZH', 'BS', 'LU', 'BE', 'BE', 'ZH', 'BS', 'ZH', 'BE', 'BE', 'BS', 'LU', 'BS', 'LU', 'BS', 'BE', 'BE', 'BE', 'BS', 'ZH', 'LU', 'ZH', 'LU', 'ZH', 'ZH', 'BS', 'ZH', 'BS', 'BE', 'LU', 'BE', 'BE', 'BE', 'BE', 'ZH', 'ZH', 'ZH', 'BE', 'BS', 'BE', 'ZH', 'BE', 'ZH', 'BS', 'BE', 'BE', 'ZH', 'ZH', 'BS', 'BE', 'BE', 'BS', 'BS', 'ZH', 'ZH', 'ZH', 'ZH', 'ZH', 'ZH', 'LU', 'LU', 'BE', 'ZH', 'ZH', 'ZH', 'BE', 'ZH', 'BE', 'BS', 'BS', 'BS', 'ZH', 'LU', 'BE', 'BS', 'LU', 'ZH', 'ZH', 'ZH', 'BS', 'BE', 'BS', 'ZH', 'BE', 'LU']\n"
     ]
    }
   ],
   "source": [
    "print(clf.predict(embdedings_numpy))\n",
    "print(lables_train)"
   ],
   "metadata": {
    "collapsed": false
   }
  },
  {
   "cell_type": "code",
   "execution_count": 8,
   "outputs": [
    {
     "name": "stdout",
     "output_type": "stream",
     "text": [
      "['LU' 'BS' 'LU' 'LU' 'BE' 'ZH' 'ZH' 'LU' 'BS' 'LU' 'LU' 'BE' 'ZH' 'LU'\n",
      " 'LU' 'BE' 'LU' 'BE' 'LU' 'LU' 'BS' 'BE' 'BS' 'ZH' 'BS' 'BE' 'ZH' 'BS'\n",
      " 'BE' 'BE' 'BS' 'BS' 'BS' 'LU' 'ZH' 'BS' 'ZH' 'ZH' 'LU' 'LU' 'LU' 'ZH'\n",
      " 'ZH' 'BS' 'BE' 'ZH' 'LU' 'BS' 'LU' 'ZH' 'BE' 'ZH' 'BS' 'ZH' 'BS' 'ZH'\n",
      " 'ZH' 'BE' 'BE' 'BS' 'LU' 'BS' 'BE' 'ZH' 'ZH' 'ZH' 'LU' 'BS' 'BS' 'LU'\n",
      " 'BE' 'BS' 'ZH' 'ZH' 'ZH' 'ZH' 'BE' 'BE' 'BS' 'ZH' 'ZH' 'BE' 'BS' 'ZH'\n",
      " 'BS' 'BS' 'BS' 'BS' 'BE' 'BS' 'ZH' 'BS' 'ZH' 'ZH' 'LU' 'ZH' 'BS' 'ZH'\n",
      " 'BS' 'ZH' 'BS' 'BS' 'LU' 'BS' 'BE' 'BS' 'LU' 'ZH' 'ZH' 'BS' 'BE' 'LU'\n",
      " 'ZH' 'ZH' 'ZH' 'BE' 'BE' 'ZH' 'BS' 'ZH' 'BE' 'LU' 'BS' 'BE' 'BS' 'BS'\n",
      " 'BE' 'BS' 'BS' 'BS' 'LU' 'BE' 'ZH' 'LU' 'LU' 'BE' 'BE' 'LU' 'BE' 'ZH'\n",
      " 'BS' 'BE' 'BS' 'BS' 'BE' 'ZH' 'ZH' 'ZH' 'ZH' 'BE' 'BS' 'BS' 'ZH' 'ZH'\n",
      " 'LU' 'ZH' 'ZH' 'BS' 'BS' 'BS' 'BS' 'LU' 'BE' 'LU' 'BE' 'BS' 'BE' 'BE'\n",
      " 'ZH' 'ZH' 'LU' 'ZH' 'ZH' 'ZH' 'ZH' 'BE' 'BS' 'BE' 'BS' 'LU' 'ZH' 'LU'\n",
      " 'BE' 'BS' 'ZH' 'LU' 'BS' 'BE' 'BE' 'ZH' 'BE' 'BS' 'BE' 'BS' 'BS' 'ZH'\n",
      " 'BE' 'BE' 'BE' 'ZH' 'BS' 'LU' 'BE' 'ZH' 'BE' 'BS' 'BE' 'BS' 'ZH' 'ZH'\n",
      " 'BS' 'BS' 'BS' 'LU' 'BE' 'ZH' 'BS' 'BE' 'ZH' 'LU' 'ZH' 'BE' 'ZH' 'BS'\n",
      " 'LU' 'ZH' 'LU' 'BS' 'BS' 'ZH' 'BS' 'ZH' 'LU' 'BE' 'ZH' 'ZH' 'BS' 'BE'\n",
      " 'ZH' 'ZH' 'BS' 'ZH' 'LU' 'BS' 'LU' 'ZH' 'ZH' 'ZH' 'BS' 'LU' 'ZH' 'BE'\n",
      " 'BS' 'LU' 'ZH' 'ZH' 'BE' 'ZH' 'ZH' 'ZH' 'BE' 'LU' 'LU' 'LU' 'LU' 'BE'\n",
      " 'BE' 'ZH' 'BS' 'BE' 'ZH' 'LU' 'ZH' 'LU' 'BS' 'ZH' 'ZH' 'ZH' 'BE' 'ZH'\n",
      " 'BS' 'BE' 'BE' 'BE' 'ZH' 'BS' 'ZH' 'ZH' 'ZH' 'BE' 'LU' 'BS' 'ZH' 'BE'\n",
      " 'ZH' 'LU' 'ZH' 'BS' 'LU' 'LU' 'BE' 'LU' 'BS' 'LU' 'BE' 'BE' 'BE' 'BE'\n",
      " 'LU' 'LU' 'BE' 'ZH' 'ZH' 'ZH' 'ZH' 'BS' 'ZH' 'ZH' 'ZH' 'BS' 'ZH' 'BS'\n",
      " 'BE' 'BS' 'ZH' 'BE' 'ZH' 'BE' 'BS' 'LU' 'BS' 'ZH' 'ZH' 'ZH' 'BS' 'BS'\n",
      " 'BE' 'LU' 'ZH' 'ZH' 'LU' 'ZH' 'ZH' 'BE' 'BE' 'BE' 'BS' 'BS' 'BE' 'ZH'\n",
      " 'LU' 'ZH' 'ZH' 'BS' 'BE' 'LU' 'BE' 'BS' 'ZH' 'LU' 'BS' 'BE' 'ZH' 'BS'\n",
      " 'LU' 'BE' 'BE' 'ZH' 'ZH' 'BE' 'LU' 'BE' 'BE' 'LU' 'BS' 'LU' 'BS' 'ZH'\n",
      " 'ZH' 'BE' 'BE' 'BS' 'ZH' 'ZH' 'BS' 'BS' 'BE' 'LU' 'BE' 'BS' 'ZH' 'BE'\n",
      " 'ZH' 'LU' 'BS' 'ZH' 'ZH' 'ZH' 'ZH' 'ZH' 'BE' 'BE' 'BE' 'LU' 'BE' 'BE'\n",
      " 'BS' 'ZH' 'LU' 'ZH' 'BS' 'BE' 'BS' 'BS' 'ZH' 'BS' 'BE' 'BE' 'ZH' 'ZH'\n",
      " 'ZH' 'LU' 'ZH' 'LU' 'BE' 'BS' 'ZH' 'BS' 'BE' 'ZH' 'BS' 'ZH' 'BE' 'ZH'\n",
      " 'BE' 'BE' 'BS' 'BE' 'BS' 'BS' 'ZH' 'BE' 'BS' 'LU' 'ZH' 'BE' 'BS' 'ZH'\n",
      " 'LU' 'BE' 'LU' 'BS' 'BS' 'LU' 'BE' 'BS' 'BE' 'ZH' 'ZH' 'BS' 'BS' 'BE'\n",
      " 'ZH' 'BS' 'BS' 'BE' 'ZH' 'BS' 'BS' 'BS' 'BS' 'BE' 'BE' 'ZH' 'BE' 'ZH'\n",
      " 'ZH' 'ZH' 'BS' 'BS' 'BS' 'BS' 'ZH' 'BS' 'ZH' 'BE' 'ZH' 'LU' 'BS' 'LU'\n",
      " 'ZH' 'BE' 'BE' 'ZH' 'ZH' 'LU' 'BS' 'BE' 'LU' 'BE' 'BE' 'ZH' 'BE' 'LU'\n",
      " 'BE' 'BE' 'LU' 'ZH' 'ZH' 'ZH' 'ZH' 'ZH' 'ZH' 'ZH' 'BE' 'BE' 'BS' 'ZH'\n",
      " 'LU' 'ZH' 'BE' 'LU' 'ZH' 'BE' 'BE' 'ZH' 'BE' 'BS' 'ZH' 'BS' 'ZH' 'ZH'\n",
      " 'ZH' 'LU' 'LU' 'ZH' 'BE' 'ZH' 'LU' 'LU' 'ZH' 'ZH' 'BS' 'ZH' 'BE' 'ZH'\n",
      " 'BE' 'ZH' 'ZH' 'BS' 'BS' 'LU' 'BE' 'BS' 'BE' 'BE' 'LU' 'BE' 'ZH' 'ZH'\n",
      " 'LU' 'BS' 'BE' 'BS' 'ZH' 'LU' 'ZH' 'LU' 'BS' 'ZH' 'BE' 'ZH' 'BS' 'LU'\n",
      " 'ZH' 'BE' 'BS' 'ZH' 'BE' 'ZH' 'ZH' 'LU' 'BE' 'ZH' 'BS' 'LU' 'LU' 'ZH'\n",
      " 'ZH' 'ZH' 'ZH' 'BS' 'ZH' 'BE' 'BS' 'BE' 'BE' 'LU' 'BE' 'LU' 'BS' 'ZH'\n",
      " 'ZH' 'BS' 'ZH' 'ZH' 'ZH' 'ZH' 'ZH' 'BS' 'ZH' 'LU' 'BS' 'ZH' 'BS' 'ZH'\n",
      " 'BE' 'ZH' 'ZH' 'BS' 'ZH' 'LU' 'BE' 'BS' 'BS' 'BE' 'ZH' 'BS' 'BS' 'ZH'\n",
      " 'BS' 'ZH' 'BE' 'BE' 'ZH' 'BE' 'LU' 'BE' 'BS' 'ZH' 'BE' 'BS' 'BS' 'ZH'\n",
      " 'BE' 'BS' 'BS' 'BS' 'BE' 'BS' 'LU' 'LU' 'ZH' 'ZH' 'LU' 'BE' 'BE' 'ZH'\n",
      " 'LU' 'ZH' 'ZH' 'ZH' 'BS' 'LU' 'ZH' 'ZH' 'BS' 'ZH' 'BS' 'LU' 'ZH' 'LU'\n",
      " 'LU' 'ZH' 'LU' 'ZH' 'BE' 'BE' 'BS' 'BS' 'ZH' 'ZH' 'ZH' 'BS' 'LU' 'BE'\n",
      " 'BS' 'BE' 'BE' 'ZH' 'ZH' 'ZH' 'ZH' 'BS' 'BE' 'LU' 'BE' 'BS' 'BS' 'LU'\n",
      " 'ZH' 'BE' 'LU' 'ZH' 'ZH' 'LU' 'LU' 'ZH' 'BS' 'ZH' 'ZH' 'ZH' 'LU' 'LU'\n",
      " 'LU' 'BE' 'ZH' 'BE' 'ZH' 'BS' 'BS' 'BS' 'BE' 'BE' 'ZH' 'LU' 'BS' 'BE'\n",
      " 'BS' 'BS' 'BS' 'BE' 'BE' 'BE' 'LU' 'BE' 'BE' 'BE' 'BE' 'ZH' 'BS' 'ZH'\n",
      " 'BS' 'BS' 'LU' 'BE' 'BS' 'ZH' 'ZH' 'BE' 'ZH' 'ZH' 'BS' 'ZH' 'BE' 'BS'\n",
      " 'BE' 'BE' 'BS' 'BE' 'BE' 'LU' 'ZH' 'BE' 'LU' 'BE' 'ZH' 'ZH' 'BS' 'ZH'\n",
      " 'BS' 'ZH' 'BS' 'LU' 'ZH' 'BS' 'LU' 'BS' 'BE' 'ZH' 'BE' 'ZH' 'LU' 'BE'\n",
      " 'LU' 'LU' 'BS' 'BE' 'ZH' 'LU' 'ZH' 'BS' 'ZH' 'ZH' 'BS' 'ZH' 'ZH' 'BS'\n",
      " 'BE' 'ZH' 'LU' 'BS' 'LU' 'BE' 'ZH' 'ZH' 'LU' 'LU' 'ZH' 'ZH' 'BS' 'BS'\n",
      " 'BE' 'ZH' 'BS' 'LU' 'ZH' 'BE' 'ZH' 'BE' 'ZH' 'ZH' 'BS' 'BE' 'LU' 'BE'\n",
      " 'ZH' 'ZH' 'BS' 'BE' 'BE' 'ZH' 'BE' 'BS' 'BS' 'BE' 'ZH' 'ZH' 'ZH' 'BS'\n",
      " 'ZH' 'BE' 'ZH' 'ZH' 'BE' 'BE' 'BE' 'BS' 'BS' 'ZH' 'BE' 'LU' 'BS' 'BS'\n",
      " 'ZH' 'BE' 'BE' 'ZH' 'BE' 'ZH' 'ZH' 'ZH' 'ZH' 'BE' 'LU' 'BS' 'BE' 'BE'\n",
      " 'BE' 'BE' 'LU' 'ZH' 'BE' 'BS' 'LU' 'BE' 'LU' 'BE' 'BS' 'BE' 'ZH' 'ZH'\n",
      " 'BE' 'BS' 'BS' 'BE' 'BS' 'BE' 'BS' 'BE' 'BS' 'BS' 'ZH' 'BE' 'BE' 'BS'\n",
      " 'ZH' 'LU' 'LU' 'BE' 'ZH' 'ZH' 'LU' 'BE' 'LU' 'BS' 'BE' 'BS' 'ZH' 'BS'\n",
      " 'LU' 'ZH' 'BE' 'ZH' 'BE' 'BE' 'ZH' 'BS' 'LU' 'BE' 'ZH' 'LU' 'ZH' 'ZH'\n",
      " 'BE' 'LU' 'LU' 'LU' 'LU' 'BS' 'LU' 'LU' 'ZH' 'ZH' 'BS' 'ZH' 'BS' 'BS'\n",
      " 'BS' 'ZH' 'BS' 'BS' 'LU' 'LU' 'BE' 'BE' 'ZH' 'BE' 'BE' 'ZH' 'BS' 'ZH'\n",
      " 'BE' 'BS' 'BS' 'LU' 'BE' 'BE' 'BE' 'ZH' 'ZH' 'LU' 'ZH' 'LU' 'BS' 'BS'\n",
      " 'BE' 'ZH' 'ZH' 'BE' 'BS' 'LU' 'BS' 'ZH' 'BE' 'ZH' 'BE' 'ZH' 'BS' 'BS'\n",
      " 'LU' 'BS' 'LU' 'LU' 'ZH' 'BS' 'BE' 'BS' 'BS' 'ZH' 'ZH' 'ZH' 'BS' 'BS'\n",
      " 'ZH' 'LU' 'BS' 'BS' 'BS' 'BE']\n",
      "['LU', 'LU', 'LU', 'LU', 'BE', 'ZH', 'ZH', 'LU', 'BS', 'LU', 'LU', 'BE', 'BS', 'BS', 'LU', 'BS', 'LU', 'BS', 'BS', 'LU', 'BS', 'BE', 'BS', 'ZH', 'BS', 'BS', 'BE', 'ZH', 'BE', 'ZH', 'BS', 'ZH', 'BS', 'BS', 'ZH', 'BS', 'ZH', 'ZH', 'LU', 'LU', 'LU', 'ZH', 'BS', 'BS', 'BE', 'ZH', 'LU', 'BS', 'BS', 'BE', 'LU', 'ZH', 'BS', 'ZH', 'BS', 'BS', 'BS', 'BE', 'BE', 'BS', 'LU', 'BS', 'BS', 'ZH', 'BE', 'ZH', 'LU', 'LU', 'BS', 'LU', 'BE', 'BE', 'ZH', 'ZH', 'BS', 'BS', 'BE', 'BS', 'BS', 'ZH', 'LU', 'BE', 'LU', 'ZH', 'BS', 'BS', 'BS', 'BS', 'BS', 'BS', 'BE', 'LU', 'BE', 'ZH', 'LU', 'ZH', 'BS', 'ZH', 'BS', 'ZH', 'BS', 'BS', 'LU', 'BS', 'BE', 'BS', 'BS', 'BS', 'LU', 'BS', 'BE', 'LU', 'ZH', 'ZH', 'LU', 'BE', 'BE', 'ZH', 'BS', 'ZH', 'LU', 'LU', 'BS', 'LU', 'BS', 'BS', 'BE', 'BS', 'ZH', 'BE', 'BS', 'BE', 'ZH', 'LU', 'LU', 'LU', 'BS', 'BS', 'BS', 'LU', 'BS', 'BE', 'BS', 'BS', 'BE', 'BS', 'ZH', 'BE', 'BS', 'BS', 'LU', 'BS', 'BE', 'BS', 'LU', 'BE', 'ZH', 'BS', 'BS', 'BS', 'BS', 'ZH', 'BE', 'BS', 'BE', 'BE', 'BE', 'BE', 'ZH', 'ZH', 'LU', 'ZH', 'ZH', 'ZH', 'ZH', 'BE', 'BS', 'LU', 'BS', 'LU', 'BE', 'LU', 'BE', 'BS', 'BE', 'LU', 'BS', 'BE', 'BE', 'ZH', 'BS', 'LU', 'BE', 'LU', 'BS', 'ZH', 'BE', 'BE', 'BE', 'BE', 'BS', 'BS', 'BE', 'ZH', 'LU', 'BE', 'BE', 'BE', 'BE', 'BE', 'BS', 'BS', 'LU', 'BS', 'BS', 'ZH', 'BS', 'BE', 'ZH', 'LU', 'LU', 'BS', 'ZH', 'BS', 'BE', 'LU', 'LU', 'ZH', 'BS', 'BS', 'ZH', 'ZH', 'BS', 'BE', 'ZH', 'ZH', 'BS', 'BE', 'ZH', 'ZH', 'LU', 'ZH', 'LU', 'BS', 'BS', 'BE', 'ZH', 'BE', 'BS', 'LU', 'ZH', 'BE', 'BS', 'BE', 'BS', 'BS', 'BE', 'LU', 'ZH', 'ZH', 'BE', 'LU', 'LU', 'BS', 'LU', 'BE', 'LU', 'BE', 'BS', 'BE', 'ZH', 'BE', 'LU', 'LU', 'LU', 'BE', 'BS', 'BE', 'BE', 'LU', 'BS', 'BS', 'BS', 'BE', 'BE', 'BS', 'LU', 'BS', 'LU', 'BE', 'LU', 'BS', 'BE', 'LU', 'BS', 'BS', 'BE', 'BS', 'LU', 'LU', 'BE', 'LU', 'BS', 'LU', 'BE', 'BE', 'BE', 'BE', 'BE', 'ZH', 'BS', 'ZH', 'LU', 'ZH', 'ZH', 'ZH', 'ZH', 'BE', 'BS', 'LU', 'ZH', 'BS', 'BE', 'BS', 'ZH', 'BE', 'LU', 'BE', 'BS', 'LU', 'BS', 'ZH', 'ZH', 'ZH', 'BS', 'BE', 'BE', 'LU', 'LU', 'ZH', 'LU', 'ZH', 'BS', 'BE', 'LU', 'BE', 'BS', 'BS', 'BE', 'BE', 'LU', 'ZH', 'BE', 'BS', 'BE', 'LU', 'LU', 'BS', 'ZH', 'LU', 'BS', 'LU', 'BS', 'BS', 'BE', 'BE', 'ZH', 'BE', 'LU', 'BE', 'LU', 'ZH', 'BE', 'BS', 'BS', 'LU', 'BS', 'ZH', 'ZH', 'ZH', 'BE', 'BS', 'ZH', 'BS', 'BS', 'LU', 'BE', 'LU', 'BE', 'BS', 'ZH', 'BS', 'BS', 'ZH', 'LU', 'ZH', 'ZH', 'BS', 'ZH', 'LU', 'ZH', 'BS', 'BS', 'LU', 'BE', 'BE', 'LU', 'ZH', 'BS', 'BS', 'BE', 'BE', 'BS', 'BS', 'BS', 'BS', 'BE', 'BE', 'ZH', 'ZH', 'ZH', 'LU', 'BS', 'LU', 'BE', 'BS', 'ZH', 'BS', 'BE', 'ZH', 'BS', 'ZH', 'LU', 'ZH', 'BS', 'BS', 'LU', 'BE', 'BS', 'BS', 'BE', 'BE', 'BS', 'LU', 'BS', 'BE', 'LU', 'ZH', 'LU', 'BE', 'BE', 'BS', 'BS', 'BS', 'BE', 'BS', 'BE', 'BS', 'ZH', 'BS', 'ZH', 'BS', 'ZH', 'BS', 'ZH', 'BS', 'LU', 'BE', 'BS', 'LU', 'BS', 'ZH', 'BS', 'ZH', 'BS', 'ZH', 'ZH', 'BS', 'BS', 'BS', 'BS', 'ZH', 'BE', 'BS', 'BS', 'LU', 'BE', 'LU', 'BS', 'LU', 'ZH', 'LU', 'BE', 'ZH', 'ZH', 'LU', 'ZH', 'ZH', 'LU', 'BE', 'BS', 'LU', 'LU', 'LU', 'BE', 'BE', 'BS', 'BE', 'ZH', 'LU', 'LU', 'ZH', 'BE', 'BS', 'BS', 'BE', 'BE', 'BS', 'LU', 'BS', 'BE', 'BS', 'ZH', 'BE', 'BS', 'BS', 'LU', 'BS', 'BS', 'LU', 'ZH', 'ZH', 'ZH', 'LU', 'LU', 'ZH', 'BE', 'BS', 'BE', 'LU', 'ZH', 'LU', 'ZH', 'ZH', 'BE', 'BE', 'BE', 'LU', 'BS', 'LU', 'BS', 'LU', 'BS', 'BS', 'ZH', 'BE', 'LU', 'LU', 'BE', 'ZH', 'BS', 'LU', 'ZH', 'LU', 'ZH', 'LU', 'LU', 'BS', 'BS', 'BS', 'BE', 'BE', 'BE', 'BS', 'BS', 'BE', 'BS', 'BS', 'BE', 'ZH', 'BS', 'BS', 'BE', 'BE', 'BS', 'LU', 'BE', 'ZH', 'ZH', 'BE', 'BE', 'BS', 'ZH', 'BE', 'BS', 'ZH', 'BE', 'LU', 'LU', 'LU', 'LU', 'ZH', 'ZH', 'LU', 'ZH', 'BE', 'ZH', 'BS', 'ZH', 'LU', 'BS', 'BE', 'BS', 'LU', 'BS', 'BS', 'LU', 'ZH', 'LU', 'BS', 'ZH', 'BS', 'BE', 'BS', 'BE', 'BE', 'BE', 'BE', 'BS', 'BS', 'LU', 'ZH', 'BE', 'BE', 'BE', 'BE', 'LU', 'BE', 'BS', 'ZH', 'BS', 'LU', 'BS', 'LU', 'BE', 'BS', 'BS', 'BE', 'BE', 'BS', 'LU', 'LU', 'ZH', 'BE', 'LU', 'BS', 'BS', 'ZH', 'LU', 'LU', 'ZH', 'LU', 'BS', 'BS', 'BE', 'ZH', 'BS', 'BS', 'LU', 'LU', 'ZH', 'BE', 'BE', 'ZH', 'BS', 'ZH', 'BE', 'BE', 'BS', 'BS', 'ZH', 'BS', 'BE', 'BE', 'LU', 'LU', 'BS', 'LU', 'BE', 'ZH', 'BS', 'ZH', 'BE', 'LU', 'LU', 'BS', 'BE', 'BE', 'LU', 'LU', 'BS', 'LU', 'LU', 'BS', 'BE', 'BS', 'LU', 'LU', 'BS', 'ZH', 'ZH', 'LU', 'LU', 'LU', 'BE', 'BE', 'BS', 'BE', 'BS', 'BE', 'BS', 'BS', 'BE', 'BE', 'BS', 'LU', 'LU', 'BE', 'LU', 'LU', 'BS', 'BE', 'BE', 'BE', 'LU', 'BE', 'LU', 'BE', 'ZH', 'BE', 'BS', 'ZH', 'LU', 'BS', 'LU', 'LU', 'BS', 'LU', 'LU', 'BE', 'BE', 'BE', 'BS', 'LU', 'LU', 'BS', 'BE', 'BE', 'BS', 'BE', 'BS', 'BE', 'BS', 'BE', 'LU', 'BE', 'ZH', 'ZH', 'ZH', 'ZH', 'ZH', 'ZH', 'ZH', 'BS', 'ZH', 'BE', 'BS', 'BS', 'BE', 'BS', 'BE', 'ZH', 'LU', 'BE', 'LU', 'LU', 'BS', 'BS', 'ZH', 'LU', 'LU', 'BS', 'BS', 'ZH', 'BS', 'BS', 'BE', 'BS', 'LU', 'BE', 'LU', 'BS', 'LU', 'LU', 'ZH', 'BS', 'LU', 'LU', 'BS', 'BE', 'LU', 'LU', 'BE', 'BS', 'ZH', 'LU', 'ZH', 'BS', 'ZH', 'LU', 'LU', 'ZH', 'BS', 'BE', 'LU', 'BE', 'BS', 'ZH', 'BS', 'BE', 'BS', 'BE', 'BE', 'BS', 'BS', 'BS', 'ZH', 'BS', 'ZH', 'BS', 'BS', 'ZH', 'ZH', 'LU', 'BE', 'BE', 'BE', 'LU', 'BS', 'ZH', 'BS', 'LU', 'BS', 'BS', 'ZH', 'BE', 'BS', 'BE', 'BE', 'ZH', 'BS', 'BE', 'ZH', 'BS', 'BS', 'BS', 'BS', 'BS', 'BE', 'BE', 'LU', 'BS', 'BE', 'LU', 'LU', 'BE', 'LU', 'BS', 'LU', 'BS', 'BS', 'BS', 'LU', 'BS', 'BS', 'LU', 'BE', 'BS', 'LU', 'BS', 'BS', 'BS', 'BE', 'BE', 'BE', 'BS', 'ZH', 'LU', 'LU', 'BS', 'BS', 'ZH', 'BS', 'BS', 'LU', 'BE', 'LU', 'BS', 'ZH', 'BS', 'LU', 'BS', 'BE', 'ZH', 'BE', 'LU', 'ZH', 'BS', 'LU', 'LU', 'BE', 'LU', 'LU', 'ZH', 'LU', 'LU', 'BS', 'LU', 'LU', 'BS', 'LU', 'BS', 'ZH', 'BS', 'LU', 'ZH', 'BS', 'BS', 'BS', 'BS', 'BE', 'BS', 'LU', 'LU', 'ZH', 'BE', 'BS', 'BE', 'BE', 'ZH', 'BS', 'LU', 'BE', 'BS', 'BS', 'BS', 'BS', 'BE', 'LU', 'BS', 'ZH', 'LU', 'ZH', 'LU', 'BS', 'BS', 'LU', 'ZH', 'BE', 'BE', 'BE', 'LU', 'BE', 'LU', 'BS', 'LU', 'BE', 'LU', 'BS', 'BS', 'BS', 'BS', 'LU', 'BS', 'ZH', 'BS', 'BE', 'BS', 'BS', 'BE', 'BS', 'LU', 'BS', 'BS', 'BS', 'LU', 'BS', 'BS', 'BS', 'BE']\n"
     ]
    }
   ],
   "source": [
    "prediction_dev = clf.predict(embdedings_numpy_dev)\n",
    "print(prediction_dev)\n",
    "print(lables_dev)"
   ],
   "metadata": {
    "collapsed": false
   }
  },
  {
   "cell_type": "code",
   "execution_count": 13,
   "outputs": [
    {
     "name": "stdout",
     "output_type": "stream",
     "text": [
      "0.6147505478251539\n",
      "              precision    recall  f1-score   support\n",
      "\n",
      "          BE       0.60      0.62      0.61       242\n",
      "          BS       0.69      0.52      0.60       335\n",
      "          LU       0.69      0.49      0.57       235\n",
      "          ZH       0.48      0.84      0.61       188\n",
      "\n",
      "    accuracy                           0.60      1000\n",
      "   macro avg       0.61      0.62      0.60      1000\n",
      "weighted avg       0.63      0.60      0.60      1000\n",
      "\n"
     ]
    }
   ],
   "source": [
    "print(precision_score(lables_dev, prediction_dev, average=\"macro\"))\n",
    "print(classification_report(lables_dev, prediction_dev))"
   ],
   "metadata": {
    "collapsed": false
   }
  },
  {
   "cell_type": "code",
   "execution_count": null,
   "outputs": [],
   "source": [],
   "metadata": {
    "collapsed": false
   }
  },
  {
   "cell_type": "code",
   "execution_count": 10,
   "outputs": [
    {
     "name": "stderr",
     "output_type": "stream",
     "text": [
      "Some weights of the model checkpoint at ZurichNLP/swissbert were not used when initializing XmodModel: ['lm_head.layer_norm.weight', 'lm_head.layer_norm.bias', 'lm_head.dense.bias', 'lm_head.dense.weight', 'lm_head.bias']\n",
      "- This IS expected if you are initializing XmodModel from the checkpoint of a model trained on another task or with another architecture (e.g. initializing a BertForSequenceClassification model from a BertForPreTraining model).\n",
      "- This IS NOT expected if you are initializing XmodModel from the checkpoint of a model that you expect to be exactly identical (initializing a BertForSequenceClassification model from a BertForSequenceClassification model).\n",
      "Some weights of XmodModel were not initialized from the model checkpoint at ZurichNLP/swissbert and are newly initialized: ['roberta.pooler.dense.weight', 'roberta.pooler.dense.bias']\n",
      "You should probably TRAIN this model on a down-stream task to be able to use it for predictions and inference.\n"
     ]
    }
   ],
   "source": [
    "loader = gdi.GdiLoader(set_path=\"/Users/raphael/Downloads/gdi-vardial-2019/\")\n",
    "bert_embedder = bsl.BertSwissLm(\"ZurichNLP/swissbert\")\n",
    "bert_embedder.model.set_default_language(\"de_CH\")\n"
   ],
   "metadata": {
    "collapsed": false
   }
  },
  {
   "cell_type": "code",
   "execution_count": null,
   "outputs": [],
   "source": [],
   "metadata": {
    "collapsed": false
   }
  },
  {
   "cell_type": "code",
   "execution_count": 20,
   "outputs": [],
   "source": [
    "\n",
    "train_data_2 = loader.create_dataframe(which_type=\"train\")\n",
    "dev_data_2 = loader.create_dataframe(which_type=\"dev\")\n",
    "test_data_2 = loader.create_dataframe(which_type=\"gold\")"
   ],
   "metadata": {
    "collapsed": false
   }
  },
  {
   "cell_type": "code",
   "execution_count": 23,
   "outputs": [
    {
     "name": "stdout",
     "output_type": "stream",
     "text": [
      "2436.4702048301697\n"
     ]
    }
   ],
   "source": [
    "import time\n",
    "start = time.time()\n",
    "train_embedding_df = bert_embedder.add_sentence_embedding(train_data_2)\n",
    "print(time.time() - start)"
   ],
   "metadata": {
    "collapsed": false
   }
  },
  {
   "cell_type": "code",
   "execution_count": 24,
   "outputs": [],
   "source": [
    "train_embedding_df.to_feather(\"train_embedding_swissbert.feather\")"
   ],
   "metadata": {
    "collapsed": false
   }
  },
  {
   "cell_type": "code",
   "execution_count": 26,
   "outputs": [
    {
     "name": "stdout",
     "output_type": "stream",
     "text": [
      "819.1357779502869\n"
     ]
    }
   ],
   "source": [
    "import time\n",
    "start = time.time()\n",
    "test_embedding_df = bert_embedder.add_sentence_embedding(test_data_2)\n",
    "print(time.time() - start)"
   ],
   "metadata": {
    "collapsed": false
   }
  },
  {
   "cell_type": "code",
   "execution_count": 27,
   "outputs": [],
   "source": [
    "test_embedding_df.to_feather(\"test_embedding_swissbert.feather\")\n"
   ],
   "metadata": {
    "collapsed": false
   }
  },
  {
   "cell_type": "code",
   "execution_count": null,
   "outputs": [],
   "source": [],
   "metadata": {
    "collapsed": false
   }
  }
 ],
 "metadata": {
  "kernelspec": {
   "display_name": "swiss_dial",
   "language": "python",
   "name": "swiss_dial"
  },
  "language_info": {
   "codemirror_mode": {
    "name": "ipython",
    "version": 3
   },
   "file_extension": ".py",
   "mimetype": "text/x-python",
   "name": "python",
   "nbconvert_exporter": "python",
   "pygments_lexer": "ipython3",
   "version": "3.10.10"
  }
 },
 "nbformat": 4,
 "nbformat_minor": 1
}
