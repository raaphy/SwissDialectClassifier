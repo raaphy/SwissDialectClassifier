{
 "cells": [
  {
   "cell_type": "code",
   "execution_count": 1,
   "metadata": {
    "collapsed": true,
    "ExecuteTime": {
     "start_time": "2023-04-22T16:20:02.404813Z",
     "end_time": "2023-04-22T16:20:08.649704Z"
    }
   },
   "outputs": [],
   "source": [
    "import gdi_loader as gdi\n",
    "import bert_swiss_lm as bsl\n",
    "import time"
   ]
  },
  {
   "cell_type": "code",
   "execution_count": 2,
   "outputs": [
    {
     "name": "stderr",
     "output_type": "stream",
     "text": [
      "Some weights of the model checkpoint at /Users/raphael/Downloads/bert-swiss-lm were not used when initializing BertModel: ['cls.predictions.transform.dense.weight', 'cls.predictions.transform.dense.bias', 'cls.predictions.transform.LayerNorm.weight', 'cls.predictions.bias', 'cls.predictions.transform.LayerNorm.bias', 'cls.predictions.decoder.weight']\n",
      "- This IS expected if you are initializing BertModel from the checkpoint of a model trained on another task or with another architecture (e.g. initializing a BertForSequenceClassification model from a BertForPreTraining model).\n",
      "- This IS NOT expected if you are initializing BertModel from the checkpoint of a model that you expect to be exactly identical (initializing a BertForSequenceClassification model from a BertForSequenceClassification model).\n",
      "Some weights of the model checkpoint at ZurichNLP/swissbert were not used when initializing XmodModel: ['lm_head.dense.bias', 'lm_head.bias', 'lm_head.layer_norm.weight', 'lm_head.dense.weight', 'lm_head.layer_norm.bias']\n",
      "- This IS expected if you are initializing XmodModel from the checkpoint of a model trained on another task or with another architecture (e.g. initializing a BertForSequenceClassification model from a BertForPreTraining model).\n",
      "- This IS NOT expected if you are initializing XmodModel from the checkpoint of a model that you expect to be exactly identical (initializing a BertForSequenceClassification model from a BertForSequenceClassification model).\n",
      "Some weights of XmodModel were not initialized from the model checkpoint at ZurichNLP/swissbert and are newly initialized: ['roberta.pooler.dense.weight', 'roberta.pooler.dense.bias']\n",
      "You should probably TRAIN this model on a down-stream task to be able to use it for predictions and inference.\n"
     ]
    }
   ],
   "source": [
    "# Setup loader\n",
    "loader = gdi.GdiLoader(set_path=\"/Users/raphael/Downloads/gdi-vardial-2019/\")\n",
    "# Set up the two BERT embedders\n",
    "bert_swiss_lm_embedder = bsl.BertSwissLm(\"/Users/raphael/Downloads/bert-swiss-lm\")\n",
    "swiss_bert_embedder = bsl.BertSwissLm(\"ZurichNLP/swissbert\", set_default_language_to_de_CH=True)\n",
    "# Load GDI data\n",
    "train_data = loader.create_dataframe(which_type=\"train\")\n",
    "dev_data = loader.create_dataframe(which_type=\"dev\")\n",
    "test_data = loader.create_dataframe(which_type=\"gold\")"
   ],
   "metadata": {
    "collapsed": false,
    "ExecuteTime": {
     "start_time": "2023-04-22T16:20:11.005665Z",
     "end_time": "2023-04-22T16:20:20.339490Z"
    }
   }
  },
  {
   "cell_type": "code",
   "execution_count": 11,
   "outputs": [
    {
     "name": "stdout",
     "output_type": "stream",
     "text": [
      "29.3370680809021\n"
     ]
    }
   ],
   "source": [
    "# Embed data twice, once with the BERT model from Michael Jungo and once with SwissBERT\n",
    "# This takes approximately 1 hour\n",
    "start = time.time()\n",
    "train_embedding_df = bert_swiss_lm_embedder.add_sentence_embedding_to_df(train_data)\n",
    "dev_embedding_df = bert_swiss_lm_embedder.add_sentence_embedding_to_df(dev_data)\n",
    "test_embedding_df = bert_swiss_lm_embedder.add_sentence_embedding_to_df(test_data)\n",
    "\n",
    "train_swissbert_embedding_df = swiss_bert_embedder.add_sentence_embedding_to_df(train_data)\n",
    "dev_swissbert_embedding_df = swiss_bert_embedder.add_sentence_embedding_to_df(dev_data)\n",
    "test_swissbert_embedding_df = swiss_bert_embedder.add_sentence_embedding_to_df(test_data)\n",
    "print(time.time() - start)"
   ],
   "metadata": {
    "collapsed": false,
    "ExecuteTime": {
     "start_time": "2023-04-22T16:28:17.271547Z",
     "end_time": "2023-04-22T16:28:46.612983Z"
    }
   }
  },
  {
   "cell_type": "code",
   "execution_count": 12,
   "outputs": [],
   "source": [
    "# Save the embeddings to disk for later use\n",
    "train_embedding_df.to_feather(\"train_embedding_bert_swiss_lm.feather\")\n",
    "dev_embedding_df.to_feather(\"dev_embedding_bert_swiss_lm.feather\")\n",
    "test_embedding_df.to_feather(\"test_embedding_bert_swiss_lm.feather\")\n",
    "\n",
    "train_swissbert_embedding_df.to_feather(\"train_embedding_swissbert.feather\")\n",
    "test_swissbert_embedding_df.to_feather(\"test_embedding_swissbert.feather\")\n",
    "dev_swissbert_embedding_df.to_feather(\"dev_embedding_swissbert.feather\")\n"
   ],
   "metadata": {
    "collapsed": false,
    "ExecuteTime": {
     "start_time": "2023-04-22T16:30:00.458641Z",
     "end_time": "2023-04-22T16:30:00.473653Z"
    }
   }
  },
  {
   "cell_type": "markdown",
   "source": [],
   "metadata": {
    "collapsed": false
   }
  }
 ],
 "metadata": {
  "kernelspec": {
   "display_name": "swiss_dial",
   "language": "python",
   "name": "swiss_dial"
  },
  "language_info": {
   "codemirror_mode": {
    "name": "ipython",
    "version": 3
   },
   "file_extension": ".py",
   "mimetype": "text/x-python",
   "name": "python",
   "nbconvert_exporter": "python",
   "pygments_lexer": "ipython3",
   "version": "3.10.10"
  }
 },
 "nbformat": 4,
 "nbformat_minor": 1
}
